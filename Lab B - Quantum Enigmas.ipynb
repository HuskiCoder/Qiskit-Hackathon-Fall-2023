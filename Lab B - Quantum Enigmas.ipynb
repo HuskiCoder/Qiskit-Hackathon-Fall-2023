{
 "cells": [
  {
   "cell_type": "code",
   "execution_count": null,
   "id": "57bd1526-3d43-49b1-a079-6c64312571d9",
   "metadata": {},
   "outputs": [],
   "source": [
    "########################################\n",
    "# ENTER YOUR NAME AND WISC EMAIL HERE: #\n",
    "########################################\n",
    "\n",
    "# Name: Tony Cao\n",
    "# Email: tcao39@wisc.edu"
   ]
  },
  {
   "cell_type": "markdown",
   "id": "0c83cb03-a2ab-4051-a03f-90c208a8a4ea",
   "metadata": {
    "tags": []
   },
   "source": [
    "# Qiskit Fall Fest 2023\n",
    "\n",
    "![QFF Logo](images/QFF-logo.png)\n",
    "\n",
    "## Lab B: The Quantum Enigmas\n",
    "\n",
    "- Difficulty: 2/5\n",
    "\n",
    "- Estimated Time: 60 Minutes"
   ]
  },
  {
   "cell_type": "markdown",
   "id": "d3b8ad4e-5959-4e54-b806-f1f3da4e22ac",
   "metadata": {},
   "source": [
    "Hi there and welcome to the **Qiskit Fall Fest**! \n",
    "\n",
    "As part of the Qiskit Fall Fest, IBM Quantum has created a series of coding challenges for you to work through. We like to call these \"labs.\" Each lab centers on a different topic. Each lab also has a difficulty, and an estimated time, which you can find in the cell above.\n",
    "\n",
    "There are dozens of different schools participating in the Fall Fest. You're part of a global event that has thousands of students learning about quantum computing. Congrats! Whether you're a beginner or a veteran, we hope you enjoy the Qiskit Fall Fest! We're glad you're here."
   ]
  },
  {
   "cell_type": "markdown",
   "id": "bc70dc9e-2526-401f-b9cf-09d5687f6672",
   "metadata": {},
   "source": [
    "<center>\n",
    "<img src=\"images/qe-logo.png\" width=\"50%\">\n",
    "</center>"
   ]
  },
  {
   "cell_type": "markdown",
   "id": "0daf9080-e074-4a44-ac20-327414e5effb",
   "metadata": {},
   "source": [
    "This lab is based on the Quantum Enigmas YouTube series, produced by the Institut Quantique at Sherbrooke University. **[Please watch video 001](https://www.youtube.com/watch?v=c1beJIg8lRs) in the Quantum Enigmas series.** This lab will be confusing to follow if you haven't already watched the video!\n",
    "\n",
    "**Click here to watch ---> [Quantum Enigmas Episode 001](https://www.youtube.com/watch?v=c1beJIg8lRs)**\n",
    "\n",
    "After you've watched the video, proceed to Part 1"
   ]
  },
  {
   "cell_type": "code",
   "execution_count": 1,
   "id": "918e178c-2e3d-483d-8242-2816e6828232",
   "metadata": {
    "tags": []
   },
   "outputs": [
    {
     "name": "stdout",
     "output_type": "stream",
     "text": [
      "env: QC_GRADE_ONLY=true\n",
      "env: QC_GRADING_ENDPOINT=https://qac-grading.quantum-computing.ibm.com\n"
     ]
    }
   ],
   "source": [
    "## Run this cell to make sure your grader is setup correctly\n",
    "\n",
    "%set_env QC_GRADE_ONLY=true\n",
    "%set_env QC_GRADING_ENDPOINT=https://qac-grading.quantum-computing.ibm.com"
   ]
  },
  {
   "cell_type": "markdown",
   "id": "0a909b0a-0b2b-46cc-8fb9-75459d6c2a96",
   "metadata": {},
   "source": [
    "# Part 1: Starting the Circuit"
   ]
  },
  {
   "cell_type": "markdown",
   "id": "df6748c4-c175-4436-ad42-b4fdcd873de1",
   "metadata": {},
   "source": [
    "To repeat the core parts of the video -- there are two doors to choose from. One is correct, one is wrong. There's a Guardian next to each door, but one Guardian only tells the truth, while the other one only lies. We have no way of knowing which is which. Our job is to ask only one question to only one guardian and figure out which door is the correct door. \n",
    "\n",
    "In the video we saw how to translate the enigma of the two Guardians into a quantum circuit. Using Qiskit, let's build that circuit from the ground up and bring the enigma to life.\n",
    "\n",
    "We saw that the circuit contains three qubits, one representing the first Guardian on the right, one representing the second Guardian on the left, and one qubit representing the \"lie\" that gets told. We don't know whether Guardian 1 or 2 is lying to us, so we use that third qubit as a way to perform operations *with each Guardian* to ensure we don't get caught in the lie. \n",
    "\n",
    "To start, we put the first Guardian into a superposition (using a Hadamard gate) then entangled the two Guardians so they shared the information (using a CNOT gate). We also put the lie qubit into superposition. Our circuit should look like this:\n",
    "\n",
    "<center>\n",
    "<img src=\"images/enigmas-circuit-1.png\" width=\"25%\">\n",
    "</center>\n",
    "\n",
    "In the code block below, we're made a new quantum circuit with 3 qubits and 3 classical bits. It is your job to build the circuit to match the above picture."
   ]
  },
  {
   "cell_type": "markdown",
   "id": "c3bcbd29-6543-42b6-bc71-7c5c23c3836d",
   "metadata": {},
   "source": [
    "### Exercise 1\n",
    "\n",
    "In the code below, apply an H gate to qubit 0, an H gate to qubit 2, and a CNOT gate between qubits 0 and 1"
   ]
  },
  {
   "cell_type": "code",
   "execution_count": 2,
   "id": "363f553f-e218-48c3-bdd6-f8670dbe86c3",
   "metadata": {
    "tags": []
   },
   "outputs": [
    {
     "data": {
      "image/png": "[encoded data removed]",
      "text/plain": [
       "<Figure size 287.496x367.889 with 1 Axes>"
      ]
     },
     "execution_count": 2,
     "metadata": {},
     "output_type": "execute_result"
    }
   ],
   "source": [
    "from qiskit import QuantumCircuit\n",
    "\n",
    "qc = QuantumCircuit(3, 3)\n",
    "\n",
    "\n",
    "## Write your code below this line ##\n",
    "qc.h(0)\n",
    "qc.cx(0,1)\n",
    "qc.h(2)\n",
    "\n",
    "\n",
    "\n",
    "\n",
    "## Do not change the code below here ##\n",
    "\n",
    "answer1 = qc\n",
    "qc.draw()"
   ]
  },
  {
   "cell_type": "code",
   "execution_count": 3,
   "id": "0410a7d8-1ce1-4d1f-b78b-486886a8ab65",
   "metadata": {
    "tags": []
   },
   "outputs": [
    {
     "name": "stdout",
     "output_type": "stream",
     "text": [
      "Grading your answer. Please wait...\n",
      "\n",
      "Congratulations 🎉! Your answer is correct.\n"
     ]
    }
   ],
   "source": [
    "# Grader Cell: Run this to submit your answer\n",
    "from qc_grader.challenges.fall_fest23 import grade_ex2a\n",
    "\n",
    "grade_ex2a(answer1)"
   ]
  },
  {
   "cell_type": "markdown",
   "id": "7721c9a8-cc1d-4db5-b0fc-48dc93d63fef",
   "metadata": {},
   "source": [
    "Nice job! \n",
    "\n",
    "We're going to build this circuit in pieces, then construct the full thing at the very end. Now that we have our Guardians and the lie qubit initialized, it's time to build the part of the circuit which accounts for the lie. We need to build a process which will evaluate if a guardian is lying, and then flip their answer if that's the case. We do *not* want to flip their answer if there is no lie detected. \n",
    "\n",
    "As a reminder, the lie qubit's measurement is how we know who is lying. When the lie qubit is measured as a 0, the **right** Guardian is lying. When the lie qubit is measured as a 1, the **left** Guardian is lying. But with our lie qubit in a superposition, we won't know who is lying until the end, so we need to build a process for each Guardian.\n",
    "\n",
    "![Circuit 2](images/enigmas-circuit-2.png)"
   ]
  },
  {
   "cell_type": "markdown",
   "id": "2f212a5f-6c94-4fa2-9fe8-212851470a9c",
   "metadata": {},
   "source": [
    "### Exercise 2\n",
    "\n",
    "We only want to build the 2nd part of the circuit now, everything that appears to the right of the vertical dashed line (which we call a barrier). **You do not need to re-create the first part of the circuit.**\n",
    "\n",
    "In the code block below, recreate the new part of the circuit you see above. Remember that the order in which you list the qubits within a CNOT gate matter! "
   ]
  },
  {
   "cell_type": "code",
   "execution_count": 4,
   "id": "9681ffeb-eddf-4b18-818a-846ffd59fd0b",
   "metadata": {
    "tags": []
   },
   "outputs": [
    {
     "data": {
      "image/png": "[encoded data removed]",
      "text/plain": [
       "<Figure size 538.33x367.889 with 1 Axes>"
      ]
     },
     "execution_count": 4,
     "metadata": {},
     "output_type": "execute_result"
    }
   ],
   "source": [
    "from qiskit import QuantumCircuit\n",
    "\n",
    "qc = QuantumCircuit(3, 3)\n",
    "\n",
    "qc.barrier(0, 1, 2)\n",
    "\n",
    "\n",
    "## Write your code below this line ## \n",
    "qc.cx(2,1)\n",
    "qc.x(2)\n",
    "qc.cx(2,0)\n",
    "qc.x(2)\n",
    "\n",
    "\n",
    "\n",
    "\n",
    "## Do not change the code below this line ##\n",
    "\n",
    "\n",
    "answer2 = qc\n",
    "qc.draw()"
   ]
  },
  {
   "cell_type": "code",
   "execution_count": 5,
   "id": "2fa1f0a6-e811-44a0-b02f-c55b507f5e9b",
   "metadata": {
    "tags": []
   },
   "outputs": [
    {
     "name": "stdout",
     "output_type": "stream",
     "text": [
      "Grading your answer. Please wait...\n",
      "\n",
      "Congratulations 🎉! Your answer is correct.\n"
     ]
    }
   ],
   "source": [
    "# Grader Cell: Run this to submit your answer\n",
    "\n",
    "from qc_grader.challenges.fall_fest23 import grade_ex2b\n",
    "\n",
    "grade_ex2b(answer2)"
   ]
  },
  {
   "cell_type": "markdown",
   "id": "738a6e14-3cfd-4d6d-8f02-22c9cf55a5d0",
   "metadata": {},
   "source": [
    "# Part 2: The Truth Table"
   ]
  },
  {
   "cell_type": "markdown",
   "id": "44a4bb9e-bc5b-4112-888e-afc195ffc0ce",
   "metadata": {},
   "source": [
    "It's easy to lose track of what we're really doing when encoding a problem into a circuit. How do I remember which qubit is the Guardian? Or how do I know where the liar even is? In fact, what does the 0 or 1 even say at each step of the process? Does a 0 for the Guardian mean something different than a 0 for the \"lie\" qubit? \n",
    "\n",
    "In order to keep our bearings as we work through this problem, it's important to keep the facts straight. We're going to construct a truth table in order to do that. The table is filled with 0s and 1s, but we will add labels to help us quickly decipher what's going on.\n",
    "\n",
    "Some reminders first:\n",
    "- There are two Guardians represented by two qubits. `q[0]` is the Guardian on the right, while `q[1]` is the Guardian on the left\n",
    "- When either Guardian's qubit is measured as 0, that's them telling us to pick the door on the right\n",
    "- When either Guardian's qubit is measured as 1, that's them telling us to pick the door on the left\n",
    "- We also have a third qubit, `q[2]` which we call the lie qubit\n",
    "- When the lie qubit is measured as a 0, the right Guardian is lying\n",
    "- When the lie qubit is measured as a 1, the left Guardian is lying\n",
    "\n",
    "As a reminder, our circuit is only half-done at this point. So far we are setting up the problem, and asking the question \"which door is the treasure behind?\" That is *not* the same question we used in the video. This first half of the circuit is only about establishing which is the correct door. The second half of the circuit, which we'll build in Part 3, is where we ask the correct question. \n",
    "\n",
    "When we run the circuit, we have four possible current outcomes. Let's build a truth table to answer the question our circuit is currently asking: which door is the treasure behind? We'll start by using the qubit information, and display all four possible outcomes. Remember, 0 means right, 1 means left.\n",
    "\n",
    "| q[2] | q[1] | q[0] |\n",
    "|:---:|:---:|:---:|\n",
    "| 0 | 0 | 1 | \n",
    "| 1 | 1 | 0 |\n",
    "| 0 | 1 | 0 |\n",
    "| 1 | 0 | 1 |\n",
    "\n",
    "#### **That's really confusing!!** "
   ]
  },
  {
   "cell_type": "markdown",
   "id": "792ebc66-57fe-443e-8122-fa205c6a0ebb",
   "metadata": {},
   "source": [
    "### Side note about qubit ordering \n",
    "\n",
    "In the table above, why is the first qubit we use all the way at the right side of the table? \n",
    "\n",
    "Good question! Qiskit uses little-endian ordering, which is a fancy way of saying that the most significant bit on the left, and the least significant on the right. So if we are reading the results like binary, we would start at the right and move our way to the left.\n",
    "\n",
    "We do this on purpose. When you run an experiement and graph the results, they are presented in the same manner. Also, in this particular lab, it's helpful to know that \"the guard on the right\" is actually _on the right_ and the guard on the left is, similarly, _on the left._\n",
    "\n",
    "In Qiskit, the qubits are represented from the most significant bit (MSB) on the left to the least significant bit (LSB) on the right. This is similar to bitstring representation on classical computers, and enables easy conversion from bitstrings to integers after measurements are performed. Importantly, this change in the representation of multi-qubit states affects the way multi-qubit gates are represented in Qiskit."
   ]
  },
  {
   "cell_type": "markdown",
   "id": "bd11c7af-1ab4-48f3-894d-80778188f90f",
   "metadata": {},
   "source": [
    "To make our truth table make more sense, let's replace the qubit number with the information it's describing. And let's also add a letter key, which we can use to write a full description. Remember, 0 means right, 1 means left.\n",
    "\n",
    "| Who is Lying? | Guard on left says | Guard on right says | Description Letter |\n",
    "|:---:|:---:|:---:|:---:|\n",
    "| 0 | 0 | 1 | A |\n",
    "| 1 | 1 | 0 | B |\n",
    "| 0 | 1 | 0 | C |\n",
    "| 1 | 0 | 1 | D |\n",
    "\n",
    "Descriptions:\n",
    "- A: The treasure is on the right, and the Guard on the right is the liar\n",
    "- B: The treasure is on the right, and the Guard on the left is the liar\n",
    "- C: The treasure is on the left, and the Guard on the right is the liar\n",
    "- D: The treasure is on the left, and the Guard on the left is the liar\n",
    "\n",
    "Let's break down just the first possible outcome, description A.\n",
    "\n",
    "| Who is Lying? | Guard on left says | Guard on right says |\n",
    "|:---:|:---:|:---:|\n",
    "| 0 | 0 | 1 | \n",
    "\n",
    "The guard on the right is saying the treasure is behind the door on the left (`q[0] = 1`). The guard on the left is saying the treasure is behind the door on the right (`q[1] = 0`). But, the guard on the right is the liar (`q[2] = 0`). So if we know the guard on the right is the liar, and he's saying the treasure is behind the door on the left, then we **know** it must actually be behind the door on the right. We're using the lie qubit to give us an answer that we otherwise could not have known. "
   ]
  },
  {
   "cell_type": "markdown",
   "id": "6b66ed0c-3466-4ec2-a05c-ec5326d7a3f6",
   "metadata": {},
   "source": [
    "### Exercise 3\n",
    "\n",
    "Now it's time to test your understanding of the truth table. Answer the quiz questions below by following the same rules we established in the truth table. "
   ]
  },
  {
   "cell_type": "code",
   "execution_count": 6,
   "id": "447738eb-134f-4338-9811-0f6d92589c6a",
   "metadata": {
    "tags": []
   },
   "outputs": [],
   "source": [
    "answer3: bool\n",
    "\n",
    "## Quiz: evaluate the results and decide if the following statement is True or False\n",
    "\n",
    "q0 = 1\n",
    "q1 = 0\n",
    "q2 = 1\n",
    "\n",
    "## Based on this, is it TRUE or FALSE that the Guard on the left is a liar? \n",
    "## Assign your answer, either True or False, to answer3 below\n",
    "\n",
    "answer3 = True"
   ]
  },
  {
   "cell_type": "code",
   "execution_count": 7,
   "id": "17b53a02-25c2-45c4-8e23-2cbca63c0e74",
   "metadata": {
    "tags": []
   },
   "outputs": [
    {
     "name": "stdout",
     "output_type": "stream",
     "text": [
      "Grading your answer. Please wait...\n",
      "\n",
      "Congratulations 🎉! Your answer is correct.\n"
     ]
    }
   ],
   "source": [
    "from qc_grader.challenges.fall_fest23 import grade_ex2c\n",
    "\n",
    "grade_ex2c(answer3)"
   ]
  },
  {
   "cell_type": "markdown",
   "id": "2998183f-045b-4edf-b383-3973dc1ef2d6",
   "metadata": {},
   "source": [
    "### Exercise 4\n",
    "\n",
    "Another quiz question!"
   ]
  },
  {
   "cell_type": "code",
   "execution_count": 14,
   "id": "849323fb-2f39-4c29-a70b-c1022eafac45",
   "metadata": {
    "tags": []
   },
   "outputs": [],
   "source": [
    "## Quiz: Fill in the correct numbers to make the following statement true: \n",
    "## The treasure is on the right, and the Guard on the left is the liar\n",
    "\n",
    "q0 = 0\n",
    "q1 = 1\n",
    "q2 = 1\n",
    "\n",
    "## HINT - Remember that Qiskit uses little-endian ordering\n",
    "\n",
    "answer4 = [q0, q1, q2]"
   ]
  },
  {
   "cell_type": "code",
   "execution_count": 15,
   "id": "b5575beb-d42c-47fa-aa2b-e705addf2b60",
   "metadata": {
    "tags": []
   },
   "outputs": [
    {
     "name": "stdout",
     "output_type": "stream",
     "text": [
      "Grading your answer. Please wait...\n",
      "\n",
      "Congratulations 🎉! Your answer is correct.\n"
     ]
    }
   ],
   "source": [
    "# Grader Cell: Run this to submit your answer\n",
    "\n",
    "from qc_grader.challenges.fall_fest23 import grade_ex2d\n",
    "\n",
    "grade_ex2d(answer4)"
   ]
  },
  {
   "cell_type": "markdown",
   "id": "8e04c312-1307-46c7-9a41-ebd35d80e651",
   "metadata": {},
   "source": [
    "# Part 3: Finishing the Circuit"
   ]
  },
  {
   "cell_type": "markdown",
   "id": "fb449cfe-f64e-4d89-8fdf-181073b2dce9",
   "metadata": {},
   "source": [
    "In order to finish our circuit, we need to remember the proper question from the video. The question we're asking is \"which door would the other Guardian tell me **not** to open?\" This question is phrased this way very deliberately. It ensures that no matter which Guardian we ask, the truth-teller or the liar, they both will give the same answer, the *correct* answer. \n",
    "\n",
    "However, so far our circuit has not accounted for this at all. In order to accomplish this, we need to introduce a new gate, **the swap gate.** This one is very straightforward, The SWAP gate swaps the states of two qubits. We apply is by simply calling the method `.swap(qubit1, qubit2)` on our quantum circuit.\n",
    "\n",
    "The SWAP gate looks similar to a CNOT, but instead of a circle on each end of the line, you see two X's. You can see it as the very first gate in the last part of our circuit that we need to construct.\n",
    "\n",
    "![Circuit 3](images/enigmas-circuit-3.png)\n"
   ]
  },
  {
   "cell_type": "markdown",
   "id": "1988d50a-aedd-4a9f-92bf-e156025c5c1b",
   "metadata": {},
   "source": [
    "### Exercise 4 \n",
    "\n",
    "Below we have provided the full circut, but taken out a handful of the gates. It's your job to fill those gates back in, and make your circuit mirror the correct one shown above.\n",
    "\n",
    "NOTE - We did not remove any of the barriers, you do not need to worry about those. "
   ]
  },
  {
   "cell_type": "code",
   "execution_count": 23,
   "id": "1ff7b278-06a3-42e3-be95-1c7412500565",
   "metadata": {
    "tags": []
   },
   "outputs": [
    {
     "data": {
      "image/png": "[encoded data removed]",
      "text/plain": [
       "<Figure size 1290.83x284.278 with 1 Axes>"
      ]
     },
     "execution_count": 23,
     "metadata": {},
     "output_type": "execute_result"
    }
   ],
   "source": [
    "from qiskit import QuantumCircuit\n",
    "\n",
    "qc = QuantumCircuit(3)\n",
    "\n",
    "\n",
    "## in the code below, fill in the missing gates. Run the cell to see a drawing of the current circuit ##\n",
    "\n",
    "\n",
    "qc.h(0)\n",
    "qc.h(2)\n",
    "qc.cx(0,1)\n",
    "\n",
    "qc.barrier(0, 1, 2)\n",
    "qc.cx(2,1)\n",
    "\n",
    "qc.x(2)\n",
    "\n",
    "qc.cx(2, 0)\n",
    "qc.x(2)\n",
    "\n",
    "qc.barrier(0, 1, 2)\n",
    "qc.swap(0,1)\n",
    "qc.x(0)\n",
    "qc.x(1)\n",
    "qc.cx(2, 1)\n",
    "qc.x(2)\n",
    "qc.cx(2,0)\n",
    "qc.x(2)\n",
    "\n",
    "## Do not change any of the code below this line ##\n",
    "\n",
    "\n",
    "answer5 = qc\n",
    "qc.draw(output=\"mpl\")"
   ]
  },
  {
   "cell_type": "code",
   "execution_count": 24,
   "id": "3164df58-a703-4a46-9b13-0ed0f55d6778",
   "metadata": {
    "tags": []
   },
   "outputs": [
    {
     "name": "stdout",
     "output_type": "stream",
     "text": [
      "Grading your answer. Please wait...\n",
      "\n",
      "Congratulations 🎉! Your answer is correct.\n"
     ]
    }
   ],
   "source": [
    "# Grader Cell: Run this to submit your answer\n",
    "\n",
    "from qc_grader.challenges.fall_fest23 import grade_ex2e\n",
    "\n",
    "grade_ex2e(answer5)"
   ]
  },
  {
   "cell_type": "markdown",
   "id": "b730d892-74e8-4397-8e86-4ea72564791b",
   "metadata": {
    "tags": []
   },
   "source": [
    "## Part 4: The Final Truth Table and Getting Results"
   ]
  },
  {
   "cell_type": "markdown",
   "id": "ddb79308-a1cc-4cff-9639-e5caf0bb9863",
   "metadata": {},
   "source": [
    "You now have a complete circuit, congratulations! Before we run it, let's update our truth table. \n",
    "\n",
    "The first table we created was answering the question \"where is the treasure?\" but as we've discussed, the correct question we should be asking based on the video is **\"which door would the other Guardian tell me not to open?\"**\n",
    "\n",
    "The results of asking that question are slightly different, and need to be written out to understand. \n",
    "\n",
    "| Who is Lying? | Guard on left says | Guard on right says | \n",
    "|:---:|:---:|:---:|\n",
    "| 0 | 0 | 0 | \n",
    "| 0 | 1 | 1 |\n",
    "| 1 | 0 | 0 | \n",
    "| 1 | 1 | 1 | \n",
    "\n",
    "You might be able to immedately spot the difference! In our first truth table, the two guards always said the opposite answer. However in our new table that answers the full question, the two guards always say the *same* answer! This ensures that no matter which Guardian we ask (remember, we only get to ask one), we will find out where the treasure is. \n"
   ]
  },
  {
   "cell_type": "markdown",
   "id": "1cd72c93-59cb-4389-a739-072d1b4104c1",
   "metadata": {},
   "source": [
    "Now that we have a finished circuit and a final truth table we can use to analyze the results, let's run the circuit and examine our output. In the cell below we've compiled everything together. Run this cell to execute the circuit 1000 times, then take a look at the graph that is created."
   ]
  },
  {
   "cell_type": "code",
   "execution_count": 25,
   "id": "1c6385bf-16fa-4b92-bc0c-d8f0b33dd41f",
   "metadata": {
    "tags": []
   },
   "outputs": [
    {
     "data": {
      "image/png": "[encoded data removed]",
      "text/plain": [
       "<Figure size 700x500 with 1 Axes>"
      ]
     },
     "execution_count": 25,
     "metadata": {},
     "output_type": "execute_result"
    }
   ],
   "source": [
    "from qiskit import QuantumCircuit, Aer, transpile\n",
    "from qiskit.visualization import plot_histogram\n",
    "\n",
    "\n",
    "## This is the full version of the circuit. Run it to see the results ##\n",
    "\n",
    "quantCirc = QuantumCircuit(3)\n",
    "\n",
    "quantCirc.h(0), quantCirc.h(2), quantCirc.cx(0, 1), quantCirc.barrier(0, 1, 2), quantCirc.cx(2, 1), quantCirc.x(2), quantCirc.cx(2, 0), quantCirc.x(2)\n",
    "quantCirc.barrier(0, 1, 2), quantCirc.swap(0, 1), quantCirc.x(1), quantCirc.cx(2, 1), quantCirc.x(0), quantCirc.x(2), quantCirc.cx(2, 0), quantCirc.x(2)\n",
    "\n",
    "# Execute the circuit and draw the histogram\n",
    "\n",
    "measured_qc = quantCirc.measure_all(inplace=False)\n",
    "backend = Aer.get_backend('qasm_simulator') # the device to run on\n",
    "result = backend.run(transpile(measured_qc, backend), shots=1000).result()\n",
    "counts  = result.get_counts(measured_qc)\n",
    "plot_histogram(counts)\n"
   ]
  },
  {
   "cell_type": "markdown",
   "id": "7d891d1e-cd82-4d5c-bac5-0f20000c4330",
   "metadata": {},
   "source": [
    "## Bonus Exercise -  Primitive and Sampler"
   ]
  },
  {
   "cell_type": "markdown",
   "id": "9155b717",
   "metadata": {},
   "source": [
    "#### Qiskit Runtime Primitives: Introducing Sampler\n",
    "\n",
    "Let's give a more scientifically accurate explanation for why we run our circuits thousands of times. \n",
    "\n",
    "With respect to the main point of interest here, the core capability of quantum computers that sets them apart from classical computers is their ability to generate non-classical probability distributions as their outputs. The inherent nature of the highly probabilistic results we get require us to have multiple runs (shots) for the same circuit to generate usable information. That usable information is typically seen in the form of probability distributions. \n",
    "\n",
    "When the output we get is a probability distribution, one typical thing we might want to do is to sample from it.\n",
    "\n",
    "So the main thing we do here is **sample probability distributions.** This brings us to something new: **The Sampler**\n",
    "\n",
    "#### The Sampler\n",
    "\n",
    "The Sampler is one of the first Qiskit Runtime **Primitives**. Primitives are core functions that make it easier to build modular algorithms and applications. In the future, we think the vast majority of people using quantum computers will do so using Qiskit Runtime.\n",
    "\n",
    "The Sampler essentially does what it says in its name. By sampling from its output, it estimates the entire quasi-probability distribution of a given quantum circuit. This is a program that takes a user's circuit as an input and generates an error-mitigated readout of quasiprobabilities. This provides users a way to better evaluate shot results using error mitigation and enables them to more efficiently evaluate the possibility of multiple relevant data points in the context of destructive interference.\n",
    "\n",
    "This is very similar to the familiar output of \"counts\" you usually get when you run a circuit. Here, however, you obtain a quasi-probability distribution output as a result of the error mitigation routine involved.\n",
    "\n",
    "Simply put, you have access to a greater range of information data points that you can use however you like. \n",
    "\n",
    "The information obtained from a quasi-probability distribution representation may be of more relevance for investigating likelihoods of true probability distributions and computing unbiased expectation value points in exchange for a sampling overhead. These distributions, broadly speaking, can behave similar to true probability theory in some sense with the difference being that they have a few constraints of the original theory relaxed, one of which is the possiblity of having negative data points representing \"negative\" probability (but collectively still summing up to 1). These, which should not be mistaken for true probabilities, can be estimated to a nearest true probability distribution up to certain error boundary based on the context of usage. Few example use cases where Sampler could be of interest are: Grovers search, QSVM routines, Stabilizer computation, Optimization routines etc. \n",
    "\n",
    "Let's re-run the last exercise by using Sampler by using a same quantum circuit."
   ]
  },
  {
   "cell_type": "code",
   "execution_count": 26,
   "id": "03f2c827",
   "metadata": {
    "tags": []
   },
   "outputs": [
    {
     "data": {
      "image/png": "[encoded data removed]",
      "text/plain": [
       "<Figure size 700x500 with 1 Axes>"
      ]
     },
     "execution_count": 26,
     "metadata": {},
     "output_type": "execute_result"
    }
   ],
   "source": [
    "from qiskit.primitives import Sampler\n",
    "from qiskit.visualization import plot_distribution\n",
    "\n",
    "sampler = Sampler()  \n",
    "\n",
    "\n",
    "result = sampler.run(measured_qc, shots=1000).result()\n",
    "\n",
    "probs = result.quasi_dists[0].binary_probabilities()\n",
    "plot_distribution(probs)"
   ]
  },
  {
   "cell_type": "markdown",
   "id": "38d7d526-64f2-4dbe-9476-9e474d5230f8",
   "metadata": {
    "tags": []
   },
   "source": [
    "## Congratulations!\n"
   ]
  },
  {
   "cell_type": "markdown",
   "id": "87288c56-db98-49a2-9335-b7a9f6158f6d",
   "metadata": {},
   "source": [
    "Let's recap some of what you learned.\n",
    "\n",
    "- When we run this circuit, each outcome has a 25% chance to be measured. After running 1000 times, your graph should show each answer has around 250 counts. This number is not a perfect 250 because probabilities are not perfect.\n",
    "- Qiskit uses little-endian ordering.\n",
    "- SWAP gates and Barriers are used to create more complex quantum circuits.\n",
    "\n",
    "There are a few more Quantum Enigma videos waiting for you to watch and enjoy. Try watching [episode 2](https://www.youtube.com/watch?v=enXT5xTaPb8&list=PLtn704u3JW-J3yBVF7WVPHXCb4vkhmem9&index=3) and recreating that circuit yourself! Or, after each episode you can attempt the [Qiskit problem set](https://learn.qiskit.org/problem-sets/quantum_enigma_002/overview), built into the Qiskit textbook. "
   ]
  },
  {
   "cell_type": "markdown",
   "id": "bdf9778d-1d70-4b7f-92ed-e76d6f0c9ae2",
   "metadata": {},
   "source": [
    "Nice work, you've made it to the end of the second lab! You should feel very proud, but there's still more to learn. Enjoy the Qiskit Fall Fest. Good luck!"
   ]
  }
 ],
 "metadata": {
  "kernelspec": {
   "display_name": "Python 3 (ipykernel)",
   "language": "python",
   "name": "python3"
  },
  "language_info": {
   "codemirror_mode": {
    "name": "ipython",
    "version": 3
   },
   "file_extension": ".py",
   "mimetype": "text/x-python",
   "name": "python",
   "nbconvert_exporter": "python",
   "pygments_lexer": "ipython3",
   "version": "3.10.8"
  },
  "widgets": {
   "application/vnd.jupyter.widget-state+json": {
    "state": {},
    "version_major": 2,
    "version_minor": 0
   }
  }
 },
 "nbformat": 4,
 "nbformat_minor": 5
}
